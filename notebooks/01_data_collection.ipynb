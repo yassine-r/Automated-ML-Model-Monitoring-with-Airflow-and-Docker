{
 "cells": [
  {
   "cell_type": "code",
   "execution_count": 7,
   "metadata": {},
   "outputs": [],
   "source": [
    "\n",
    "import os\n",
    "import shutil\n",
    "import datetime\n",
    "import sys\n",
    "\n",
    "sys.path.append(os.path.join(os.path.dirname(os.getcwd()),'dags','src'))\n",
    "\n",
    "import config\n",
    "import helpers"
   ]
  },
  {
   "cell_type": "code",
   "execution_count": 8,
   "metadata": {},
   "outputs": [],
   "source": [
    "def get_latest_file(files):\n",
    "  \"\"\"Gets the name of the latest file in a list of files.\n",
    "\n",
    "  Args:\n",
    "    files: A list of files.\n",
    "\n",
    "  Returns:\n",
    "    The name of the latest file.\n",
    "  \"\"\"\n",
    "\n",
    "  latest_file = None\n",
    "  latest_date = None\n",
    "  for file in files:\n",
    "    file_date = datetime.datetime.strptime(file[:10], '%Y_%m_%d')\n",
    "    if latest_date is None or file_date > latest_date:\n",
    "      latest_file = file\n",
    "      latest_date = file_date\n",
    "\n",
    "  return latest_file\n",
    "\n",
    "\n",
    "\n",
    "def collect_data(job_id: str):\n",
    "    \"\"\"\n",
    "    Collects new data for processing based on the provided job_id.\n",
    "\n",
    "    This function is designed to gather fresh data, typically stored in the directory\n",
    "    `data/source`. The origin of this data could vary, including databases\n",
    "    or other sources. The crucial aspect is that with each execution of the code,\n",
    "    the most recently added data will be duplicated into the directory `data/collected`\n",
    "    and will be renamed according to the provided job_id.\n",
    "\n",
    "    Parameters:\n",
    "    job_id (str): An identifier for the job. \n",
    "\n",
    "    Notes:\n",
    "    - The assumption is made that the data in `data/source` is regularly\n",
    "      updated with new information.\n",
    "    \"\"\"\n",
    "\n",
    "    source_dir = os.path.join(config.PATH_DIR_DATA, 'source')\n",
    "    collected_dir = os.path.join(config.PATH_DIR_DATA, 'collected')\n",
    "\n",
    "    # Get the most recently added file from the source directory.\n",
    "    latest_source_file = get_latest_file(os.listdir(source_dir))\n",
    "    latest_source_file_path = os.path.join(source_dir, latest_source_file)\n",
    "\n",
    "    # Create a new file in the collected directory with the job_id as the filename.\n",
    "    new_file = os.path.join(collected_dir, f'{job_id}.csv')\n",
    "\n",
    "    # Copy the contents of the latest source file to the new file.\n",
    "    shutil.copy2(latest_source_file_path, new_file)\n",
    "\n",
    "    # Print a message indicating that the data collection was successful.\n",
    "    print(f'[INFO] Data collection for job {job_id} successful.')\n",
    "\n",
    "    return new_file"
   ]
  },
  {
   "cell_type": "code",
   "execution_count": 9,
   "metadata": {},
   "outputs": [
    {
     "name": "stdout",
     "output_type": "stream",
     "text": [
      "[INFO] Data collection for job 736cd81b1aad420fb74083c18546fca7 successful.\n",
      "../dags/data\\collected\\736cd81b1aad420fb74083c18546fca7.csv\n"
     ]
    }
   ],
   "source": [
    "job_id = helpers.generate_uuid()\n",
    "print(collect_data(job_id))"
   ]
  },
  {
   "cell_type": "code",
   "execution_count": null,
   "metadata": {},
   "outputs": [],
   "source": []
  }
 ],
 "metadata": {
  "kernelspec": {
   "display_name": "venv",
   "language": "python",
   "name": "python3"
  },
  "language_info": {
   "codemirror_mode": {
    "name": "ipython",
    "version": 3
   },
   "file_extension": ".py",
   "mimetype": "text/x-python",
   "name": "python",
   "nbconvert_exporter": "python",
   "pygments_lexer": "ipython3",
   "version": "3.10.9"
  },
  "orig_nbformat": 4
 },
 "nbformat": 4,
 "nbformat_minor": 2
}
